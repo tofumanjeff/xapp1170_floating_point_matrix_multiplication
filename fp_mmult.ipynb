{
 "cells": [
  {
   "cell_type": "code",
   "execution_count": 1,
   "metadata": {},
   "outputs": [
    {
     "data": {
      "application/javascript": [
       "\n",
       "require(['notebook/js/codecell'], function(codecell) {\n",
       "  codecell.CodeCell.options_default.highlight_modes[\n",
       "      'magic_text/x-csrc'] = {'reg':[/^%%microblaze/]};\n",
       "  Jupyter.notebook.events.one('kernel_ready.Kernel', function(){\n",
       "      Jupyter.notebook.get_cells().map(function(cell){\n",
       "          if (cell.cell_type == 'code'){ cell.auto_highlight(); } }) ;\n",
       "  });\n",
       "});\n"
      ]
     },
     "metadata": {},
     "output_type": "display_data"
    }
   ],
   "source": [
    "import numpy as np\n",
    "from time import time\n",
    "from pynq import Overlay\n",
    "from pynq import allocate"
   ]
  },
  {
   "cell_type": "code",
   "execution_count": 2,
   "metadata": {},
   "outputs": [],
   "source": [
    "ol = Overlay(\"/home/xilinx/Jeff/fp_mmult/fp_mmult.bit\")\n",
    "fp_mmult_ip = ol.HLS_accel_0\n",
    "dma0 = ol.axi_dma_0"
   ]
  },
  {
   "cell_type": "code",
   "execution_count": 3,
   "metadata": {},
   "outputs": [],
   "source": [
    "DIM = 32\n",
    "\n",
    "inBuffer0 = allocate(shape=(DIM*2, DIM), dtype=np.float32)\n",
    "outBuffer0 = allocate(shape=(DIM, DIM), dtype=np.float32)"
   ]
  },
  {
   "cell_type": "code",
   "execution_count": 4,
   "metadata": {},
   "outputs": [],
   "source": [
    "a = np.zeros((DIM, DIM))\n",
    "b = np.zeros((DIM, DIM))\n",
    "\n",
    "for i in range(DIM):\n",
    "    for j in range(DIM):\n",
    "        a[i][j] = i + j\n",
    "        inBuffer0[i][j] = a[i][j]\n",
    "\n",
    "for i in range(DIM):\n",
    "    for j in range(DIM):\n",
    "        b[i][j] = i * j\n",
    "        inBuffer0[i+DIM][j] = b[i][j]"
   ]
  },
  {
   "cell_type": "code",
   "execution_count": 5,
   "metadata": {},
   "outputs": [
    {
     "name": "stdout",
     "output_type": "stream",
     "text": [
      "Kernel execution time: 0.0035893917083740234 s\n"
     ]
    }
   ],
   "source": [
    "timeKernelStart = time()\n",
    "\n",
    "fp_mmult_ip.write(0x00, 0x01)\n",
    "dma0.sendchannel.start()\n",
    "dma0.recvchannel.start()\n",
    "dma0.sendchannel.transfer(inBuffer0)\n",
    "dma0.recvchannel.transfer(outBuffer0)\n",
    "dma0.sendchannel.wait()\n",
    "dma0.recvchannel.wait()\n",
    "\n",
    "timeKernelEnd = time()\n",
    "print(\"Kernel execution time: \" + str(timeKernelEnd - timeKernelStart) + \" s\")"
   ]
  },
  {
   "cell_type": "code",
   "execution_count": 6,
   "metadata": {},
   "outputs": [
    {
     "name": "stdout",
     "output_type": "stream",
     "text": [
      "A =\n",
      "[[  0.   1.   2. ...,  29.  30.  31.]\n",
      " [  1.   2.   3. ...,  30.  31.  32.]\n",
      " [  2.   3.   4. ...,  31.  32.  33.]\n",
      " ..., \n",
      " [ 29.  30.  31. ...,  58.  59.  60.]\n",
      " [ 30.  31.  32. ...,  59.  60.  61.]\n",
      " [ 31.  32.  33. ...,  60.  61.  62.]]\n",
      "B =\n",
      "[[   0.    0.    0. ...,    0.    0.    0.]\n",
      " [   0.    1.    2. ...,   29.   30.   31.]\n",
      " [   0.    2.    4. ...,   58.   60.   62.]\n",
      " ..., \n",
      " [   0.   29.   58. ...,  841.  870.  899.]\n",
      " [   0.   30.   60. ...,  870.  900.  930.]\n",
      " [   0.   31.   62. ...,  899.  930.  961.]]\n",
      "C_Golden =\n",
      "[[      0.   10416.   20832. ...,  302064.  312480.  322896.]\n",
      " [      0.   10912.   21824. ...,  316448.  327360.  338272.]\n",
      " [      0.   11408.   22816. ...,  330832.  342240.  353648.]\n",
      " ..., \n",
      " [      0.   24800.   49600. ...,  719200.  744000.  768800.]\n",
      " [      0.   25296.   50592. ...,  733584.  758880.  784176.]\n",
      " [      0.   25792.   51584. ...,  747968.  773760.  799552.]]\n",
      "C_accel =\n",
      "[[      0.   10416.   20832. ...,  302064.  312480.  322896.]\n",
      " [      0.   10912.   21824. ...,  316448.  327360.  338272.]\n",
      " [      0.   11408.   22816. ...,  330832.  342240.  353648.]\n",
      " ..., \n",
      " [      0.   24800.   49600. ...,  719200.  744000.  768800.]\n",
      " [      0.   25296.   50592. ...,  733584.  758880.  784176.]\n",
      " [      0.   25792.   51584. ...,  747968.  773760.  799552.]]\n",
      "====================================================================\n",
      "err = 0\n",
      "Test passed!\n"
     ]
    }
   ],
   "source": [
    "err = 0\n",
    "c = np.zeros((DIM, DIM))\n",
    "for i in range(DIM):\n",
    "    for j in range(DIM):\n",
    "        for k in range(DIM):\n",
    "            c[i][j] += a[i][k] * b[k][j]\n",
    "        if outBuffer0[i][j] != c[i][j]:\n",
    "            err += 1\n",
    "\n",
    "print(\"A =\")\n",
    "print(a)\n",
    "print(\"B =\")\n",
    "print(b)\n",
    "print(\"C_Golden =\")\n",
    "print(c)\n",
    "print(\"C_accel =\")\n",
    "print(outBuffer0)\n",
    "print(\"====================================================================\")\n",
    "\n",
    "if err == 0:\n",
    "    print(\"err = 0\")\n",
    "    print(\"Test passed!\")\n",
    "else:\n",
    "    print(\"err = \" + str(err))\n",
    "    print(\"Test failed!\")"
   ]
  },
  {
   "cell_type": "code",
   "execution_count": null,
   "metadata": {},
   "outputs": [],
   "source": []
  }
 ],
 "metadata": {
  "kernelspec": {
   "display_name": "Python 3",
   "language": "python",
   "name": "python3"
  },
  "language_info": {
   "codemirror_mode": {
    "name": "ipython",
    "version": 3
   },
   "file_extension": ".py",
   "mimetype": "text/x-python",
   "name": "python",
   "nbconvert_exporter": "python",
   "pygments_lexer": "ipython3",
   "version": "3.6.5"
  }
 },
 "nbformat": 4,
 "nbformat_minor": 2
}
